{
 "cells": [
  {
   "metadata": {},
   "cell_type": "markdown",
   "source": "Recently I participated in recommender system contest, where I managed to place among the top 10. In this notebook I provide the code and comparisons of my Item Based K Nearest Neighbours with some other algorithms.",
   "id": "fbc12dcc47a04a31"
  },
  {
   "metadata": {
    "ExecuteTime": {
     "end_time": "2025-08-11T15:22:39.250317Z",
     "start_time": "2025-08-11T15:22:38.219191Z"
    }
   },
   "cell_type": "code",
   "source": [
    "import pandas as pd\n",
    "import numpy as np\n",
    "from evaluate_algorithm import inter_matr_implicit\n",
    "import subprocess\n",
    "\n",
    "from item_knn import recTopK\n",
    "from recommenders_to_compare.random_recommender import random_recommender\n",
    "from recommenders_to_compare.pop_recommender import pop_recommender\n",
    "from recommenders_to_compare.svd_recommender import svd_decompose, svd_recommend_to_list\n",
    "from recommenders_to_compare.cb_item_knn import cb_itemknn_recommendation"
   ],
   "id": "185fc4c4c4bdc1f9",
   "outputs": [],
   "execution_count": 1
  },
  {
   "metadata": {
    "ExecuteTime": {
     "end_time": "2025-08-11T15:22:41.951814Z",
     "start_time": "2025-08-11T15:22:41.949055Z"
    }
   },
   "cell_type": "code",
   "source": [
    "top_k = 10\n",
    "\n",
    "# Reading data\n",
    "def read(dataset, file):\n",
    "    return pd.read_csv('challenge_data/' + dataset + '.' + file, sep='\\t')\n",
    "\n",
    "def write_recommendations(recommendations_to_write):\n",
    "    with open('recommendations.tsv', 'w') as f:\n",
    "        for user_id, item_ids in zip(inters_test['user_id'].unique(), recommendations_to_write):\n",
    "            line = f\"{user_id}\\t{','.join(item_ids.astype(str))}\\n\"\n",
    "            f.write(line)\n",
    "\n",
    "def get_accuracy(title, recommendations_to_evaluate):\n",
    "    write_recommendations(recommendations_to_evaluate)\n",
    "\n",
    "    result = subprocess.run([\"python3\", \"evaluate_algorithm.py\", \"--submission\", \"./recommendations.tsv\", \"--target\", \"./challenge_data/lfm-challenge.inter_test\"],\n",
    "                capture_output=True,\n",
    "                text=True)\n",
    "    accuracy = float(result.stdout.split(\"\\n\")[1].split(\" \")[-1][:6])\n",
    "\n",
    "    print(f\"{title}: {round(accuracy * 100, 2)}%\")"
   ],
   "id": "65d07827e5329bd",
   "outputs": [],
   "execution_count": 3
  },
  {
   "metadata": {
    "ExecuteTime": {
     "end_time": "2025-08-11T15:22:44.999221Z",
     "start_time": "2025-08-11T15:22:44.947882Z"
    }
   },
   "cell_type": "code",
   "source": [
    "items = read(\"lfm-challenge\", 'item')\n",
    "users = read(\"lfm-challenge\", 'user')\n",
    "item_embeddings = read(\"lfm-challenge\", 'musicnn')\n",
    "train_inters = read(\"lfm-challenge\", 'inter_train')\n",
    "inters_test = read(\"lfm-challenge\", 'inter_test')\n",
    "\n",
    "# Split train_inters into train and validation sets\n",
    "train_inter_matrix = inter_matr_implicit(users=train_inters['user_id'].max()+1, items=train_inters['item_id'].max()+1, interactions=train_inters)\n",
    "test_inter_matrix = inter_matr_implicit(users=inters_test['user_id'].max()+1, items=inters_test['item_id'].max()+1, interactions=inters_test)"
   ],
   "id": "972c7ed44b0b722a",
   "outputs": [],
   "execution_count": 4
  },
  {
   "metadata": {},
   "cell_type": "markdown",
   "source": "To have an understanding of how complex the task is, let's look at the performance of random recommender",
   "id": "712d3b6d7ad024b6"
  },
  {
   "metadata": {
    "ExecuteTime": {
     "end_time": "2025-08-11T15:22:51.101823Z",
     "start_time": "2025-08-11T15:22:47.173198Z"
    }
   },
   "cell_type": "code",
   "source": [
    "recommendations = random_recommender(user_ids=inters_test['user_id'].unique(), val_inter_matrix=test_inter_matrix, top_k=top_k)\n",
    "get_accuracy(\"Random recommender\", recommendations)"
   ],
   "id": "8905683320d7af4e",
   "outputs": [
    {
     "name": "stdout",
     "output_type": "stream",
     "text": [
      "Random recommender: 0.25%\n"
     ]
    }
   ],
   "execution_count": 5
  },
  {
   "metadata": {},
   "cell_type": "markdown",
   "source": "Now jumping directly to my recommender",
   "id": "ec4657b1a22c46b5"
  },
  {
   "metadata": {
    "ExecuteTime": {
     "end_time": "2025-08-11T15:30:04.544631Z",
     "start_time": "2025-08-11T15:26:30.184577Z"
    }
   },
   "cell_type": "code",
   "source": [
    "recommendations = []\n",
    "recommendations_unsorted = recTopK(train_inter_matrix, top_k=top_k, n=2)\n",
    "for user_id in inters_test['user_id'].unique():\n",
    "    recommendations.append(recommendations_unsorted[user_id])\n",
    "recommendations = np.array(recommendations)\n",
    "get_accuracy(\"Item based k-nearest neighbours\", recommendations)"
   ],
   "id": "1ae231c1e2f411bd",
   "outputs": [
    {
     "name": "stderr",
     "output_type": "stream",
     "text": [
      "Computing item similarity matrix: 100%|██████████| 4178/4178 [02:33<00:00, 27.30it/s] \n",
      "Computing recommendations: 100%|██████████| 2795/2795 [00:57<00:00, 48.28it/s]\n"
     ]
    },
    {
     "name": "stdout",
     "output_type": "stream",
     "text": [
      "Item based k-nearest neighbours: 20.37%\n"
     ]
    }
   ],
   "execution_count": 6
  },
  {
   "metadata": {},
   "cell_type": "markdown",
   "source": "Not bad. Let's compare this to other approaches",
   "id": "7fbab4ce8553c5a2"
  },
  {
   "metadata": {},
   "cell_type": "markdown",
   "source": "#### Recommender of the most popular songs",
   "id": "cb9fd423473e0ab6"
  },
  {
   "metadata": {
    "ExecuteTime": {
     "end_time": "2025-08-11T15:38:53.848736Z",
     "start_time": "2025-08-11T15:38:32.724751Z"
    }
   },
   "cell_type": "code",
   "source": [
    "recommendations = pop_recommender(user_ids=train_inters['user_id'].unique(), inter_matrix=train_inter_matrix, top_k=top_k)\n",
    "get_accuracy(\"POP-recommender\", recommendations)"
   ],
   "id": "20c562cfb3bc9b43",
   "outputs": [
    {
     "name": "stdout",
     "output_type": "stream",
     "text": [
      "POP-recommender: 0.82%\n"
     ]
    }
   ],
   "execution_count": 7
  },
  {
   "metadata": {},
   "cell_type": "markdown",
   "source": "Single Value Decomposition (SVD) recommender",
   "id": "80f3b5ebfafbecea"
  },
  {
   "metadata": {
    "ExecuteTime": {
     "end_time": "2025-08-11T15:43:17.081332Z",
     "start_time": "2025-08-11T15:40:23.878570Z"
    }
   },
   "cell_type": "code",
   "source": [
    "U, V = svd_decompose(train_inter_matrix, f = 300)\n",
    "recommendations = []\n",
    "for user_id in inters_test['user_id'].unique():\n",
    "    seen_item_ids = train_inters[train_inters[\"user_id\"] == user_id]['item_id']\n",
    "    recommendations.append(svd_recommend_to_list(user_id=user_id, seen_item_ids=seen_item_ids, U=U, V=V, topK=top_k)[0])\n",
    "get_accuracy(\"SVD-recommender\", recommendations)"
   ],
   "id": "f26aa022cde510f2",
   "outputs": [
    {
     "name": "stdout",
     "output_type": "stream",
     "text": [
      "SVD-recommender: 17.07%\n"
     ]
    }
   ],
   "execution_count": 8
  },
  {
   "metadata": {},
   "cell_type": "markdown",
   "source": "Content based Item KNN recommender",
   "id": "2855a64b45aba523"
  },
  {
   "metadata": {
    "ExecuteTime": {
     "end_time": "2025-08-11T15:47:30.355771Z",
     "start_time": "2025-08-11T15:44:33.881922Z"
    }
   },
   "cell_type": "code",
   "source": [
    "recommendations = []\n",
    "for user_id in inters_test['user_id'].unique():\n",
    "    seen_item_ids = train_inters[train_inters[\"user_id\"] == user_id]['item_id']\n",
    "    recommendations.append(cb_itemknn_recommendation(seen_item_ids, item_embeddings, top_k=top_k, knn_k=10))\n",
    "get_accuracy(\"CB-recommender\", recommendations)"
   ],
   "id": "c26887e2737d6478",
   "outputs": [
    {
     "name": "stdout",
     "output_type": "stream",
     "text": [
      "CB-recommender: 1.52%\n"
     ]
    }
   ],
   "execution_count": 9
  },
  {
   "metadata": {},
   "cell_type": "markdown",
   "source": [
    "#### Further investigation\n",
    "\n",
    "I am trying to visualize recommendation strategies of SVD, ItemKNN, ContentKNN + POP recommender,\n",
    "maybe we can derive some patterns. Firstly I wanted to make graphs,\n",
    "but then I realized that, because of data complexity it will be hard to visualize.\n",
    "Instead, I am eager to calculate Levenshtein, Jaccard, longest common sequence similarities for recommendation for respective users.\n",
    "\n",
    "##### Levenshtein similarity matrix (counting the minimum number of single-character edits):\n",
    "\n",
    "                        cknn|0.0152  user_knn|0.2037  pop|0.0082  svd|0.1707\n",
    "    cknn|0.0152         1.000000         0.017818    0.002147    0.015063\n",
    "    item_knn|0.2037     0.017818         1.000000    0.004830    0.227048\n",
    "    pop|0.0082          0.002147         0.004830    1.000000    0.009445\n",
    "    svd|0.1707          0.015063         0.227048    0.009445    1.000000\n",
    "\n",
    "##### Jaccard similarity matrix (elements intersection/union):\n",
    "\n",
    "                        cknn|0.0152  user_knn|0.2037  pop|0.0082  svd|0.1707\n",
    "    cknn|0.0152         1.000000         0.010365    0.001130    0.008488\n",
    "    item_knn|0.2037     0.010365         1.000000    0.002637    0.217995\n",
    "    pop|0.0082          0.001130         0.002637    1.000000    0.005045\n",
    "    svd|0.1707          0.008488         0.217995    0.005045    1.000000\n",
    "\n",
    "##### LCS similarity matrix (longest common subsequence):\n",
    "\n",
    "                        cknn|0.0152  user_knn|0.2037  pop|0.0082  svd|0.1707\n",
    "    cknn|0.0152        10.000000         0.178175    0.021467    0.150626\n",
    "    item_knn|0.2037     0.178175        10.000000    0.048301    2.270483\n",
    "    pop|0.0082          0.021467         0.048301   10.000000    0.094454\n",
    "    svd|0.1707          0.150626         2.270483    0.094454   10.000000\n",
    "\n",
    "we can observe that user_knn and SVD have relatively strong levels of similarity, so, SVD and Item_KNN probably recommend similar items in different order"
   ],
   "id": "150df29c782deccf"
  },
  {
   "metadata": {},
   "cell_type": "markdown",
   "source": [
    "### Conclusion\n",
    "After my best system was a plain ItemKNN. On the competition platform I achieved 38.3% accuracy calculating recommendations from the whole dataset. This is a quite good result. It could be better, if I had an inside about time factor of listens, meaning a time sequence of listens. Further improvements can be achieved being provided with more information about user."
   ],
   "id": "275b9926f9d9963d"
  }
 ],
 "metadata": {},
 "nbformat": 4,
 "nbformat_minor": 5
}
